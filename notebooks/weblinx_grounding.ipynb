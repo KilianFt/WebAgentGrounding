{
 "cells": [
  {
   "cell_type": "markdown",
   "metadata": {},
   "source": [
    "# Weblinx grounding"
   ]
  },
  {
   "cell_type": "code",
   "execution_count": 1,
   "metadata": {},
   "outputs": [
    {
     "name": "stderr",
     "output_type": "stream",
     "text": [
      "/Users/kilian/opt/miniconda3/envs/option-agent/lib/python3.12/site-packages/tqdm/auto.py:21: TqdmWarning: IProgress not found. Please update jupyter and ipywidgets. See https://ipywidgets.readthedocs.io/en/stable/user_install.html\n",
      "  from .autonotebook import tqdm as notebook_tqdm\n"
     ]
    }
   ],
   "source": [
    "import re\n",
    "import numpy as np\n",
    "from datasets import load_dataset"
   ]
  },
  {
   "cell_type": "code",
   "execution_count": 26,
   "metadata": {},
   "outputs": [],
   "source": [
    "valid_data = load_dataset(\"McGill-NLP/weblinx\", split=\"validation\")\n",
    "\n",
    "# filter valid data to only include columns where \"action\" contains \"uid\"\n",
    "valid_uid = valid_data.filter(lambda x: \"uid\" in x[\"action\"])"
   ]
  },
  {
   "cell_type": "code",
   "execution_count": 27,
   "metadata": {},
   "outputs": [
    {
     "name": "stdout",
     "output_type": "stream",
     "text": [
      "Ideal uids in candidates: 0.67%\n"
     ]
    }
   ],
   "source": [
    "# get uids from actions\n",
    "pattern = r'uid=\"([^\"]+)\"'\n",
    "ideal_uids = [re.search(pattern, a).group(1) if re.search(pattern, a) else None for a in valid_uid['action'] ]\n",
    "\n",
    "# get uids from candidates\n",
    "pattern = r\"[0-9a-z]{8}-[0-9a-z]{4}-[0-9a-z]{4}\"\n",
    "uid_candidates = [re.findall(pattern, uc) if uc is not None else [] for uc in valid_uid['candidates']]\n",
    "\n",
    "# calculate how many ideal uids are in the candidates\n",
    "cand_accs = [i in j for i, j in zip(ideal_uids, uid_candidates)]\n",
    "ideal_uids_in_cand_acc = sum(cand_accs) / len(cand_accs)\n",
    "print(f\"Ideal uids in candidates: {ideal_uids_in_cand_acc:.2f}%\")"
   ]
  },
  {
   "cell_type": "markdown",
   "metadata": {},
   "source": [
    "It is important to mention that when taking the top 50 candidates, the ideal element is present in most cases (>90%)."
   ]
  },
  {
   "cell_type": "markdown",
   "metadata": {},
   "source": [
    "# Consine similarity of elements\n",
    "Weblinx calculates the embeddings of the query and each element. It then scores elements based on the cosine similarity between element and query."
   ]
  },
  {
   "cell_type": "code",
   "execution_count": 2,
   "metadata": {},
   "outputs": [],
   "source": [
    "import sys\n",
    "sys.path.append('../')\n",
    "from weblinx_baseline.main import WeblinxGrounding\n",
    "from grounding.eval import load_data"
   ]
  },
  {
   "cell_type": "code",
   "execution_count": 3,
   "metadata": {},
   "outputs": [
    {
     "name": "stderr",
     "output_type": "stream",
     "text": [
      "DEBUG:urllib3.connectionpool:Starting new HTTPS connection (1): huggingface.co:443\n",
      "DEBUG:urllib3.connectionpool:https://huggingface.co:443 \"GET /api/datasets/McGill-NLP/WebLINX-full/revision/main HTTP/1.1\" 200 42376148\n",
      "Fetching 0 files: 0it [00:00, ?it/s]\n"
     ]
    }
   ],
   "source": [
    "# find out more about consine similarities of query and elements\n",
    "dataset_dir = \"../datasets/wl_data/\"\n",
    "demo_names = ['saabwsg', 'ygprzve', 'iqaazif']\n",
    "demos = load_data(dataset_dir, demo_names)\n",
    "\n",
    "model = WeblinxGrounding()"
   ]
  },
  {
   "cell_type": "code",
   "execution_count": 4,
   "metadata": {},
   "outputs": [
    {
     "name": "stderr",
     "output_type": "stream",
     "text": [
      "INFO:root:Number of demos: 3. Starting building records.\n",
      "Building input records: 100%|██████████| 3/3 [00:00<00:00,  4.93it/s]\n",
      "INFO:root:Completed. Number of input records: 5976\n",
      "INFO:sentence_transformers.SentenceTransformer:Use pytorch device_name: mps\n",
      "INFO:sentence_transformers.SentenceTransformer:Load pretrained SentenceTransformer: McGill-NLP/bge-small-dmr\n",
      "DEBUG:urllib3.connectionpool:https://huggingface.co:443 \"HEAD /McGill-NLP/bge-small-dmr/resolve/main/modules.json HTTP/1.1\" 302 0\n",
      "DEBUG:urllib3.connectionpool:https://huggingface.co:443 \"HEAD /McGill-NLP/bge-small-dmr/resolve/main/config_sentence_transformers.json HTTP/1.1\" 302 0\n",
      "DEBUG:urllib3.connectionpool:https://huggingface.co:443 \"HEAD /McGill-NLP/bge-small-dmr/resolve/main/README.md HTTP/1.1\" 200 0\n",
      "DEBUG:urllib3.connectionpool:https://huggingface.co:443 \"HEAD /McGill-NLP/bge-small-dmr/resolve/main/modules.json HTTP/1.1\" 302 0\n",
      "DEBUG:urllib3.connectionpool:https://huggingface.co:443 \"HEAD /McGill-NLP/bge-small-dmr/resolve/main/sentence_bert_config.json HTTP/1.1\" 302 0\n",
      "DEBUG:urllib3.connectionpool:https://huggingface.co:443 \"HEAD /McGill-NLP/bge-small-dmr/resolve/main/config.json HTTP/1.1\" 302 0\n",
      "DEBUG:urllib3.connectionpool:https://huggingface.co:443 \"HEAD /McGill-NLP/bge-small-dmr/resolve/main/tokenizer_config.json HTTP/1.1\" 302 0\n",
      "DEBUG:urllib3.connectionpool:https://huggingface.co:443 \"GET /api/models/McGill-NLP/bge-small-dmr/revision/main HTTP/1.1\" 200 1331\n",
      "DEBUG:urllib3.connectionpool:https://huggingface.co:443 \"GET /api/models/McGill-NLP/bge-small-dmr HTTP/1.1\" 200 1331\n",
      "INFO:root:Using the following similarity method: cos_sim\n",
      "Computing scores: 100%|██████████| 30/30 [00:53<00:00,  1.78s/it]\n",
      "INFO:root:Completed\n"
     ]
    }
   ],
   "source": [
    "samples = model.preprocess(demos)\n",
    "preds = model.predict_score(samples, group_scores=True)"
   ]
  },
  {
   "cell_type": "code",
   "execution_count": 35,
   "metadata": {},
   "outputs": [],
   "source": [
    "results = {\n",
    "    'correct': [],\n",
    "    'top_10': [],\n",
    "    'max': [],\n",
    "}\n",
    "for demo_r in preds.values():\n",
    "    scores = np.array([r['score'] for r in demo_r])\n",
    "    labels = np.array([r['label'] for r in demo_r])\n",
    "    correct_score = scores[labels == 1][0] if labels.sum() > 0 else np.NaN\n",
    "    scores.sort()\n",
    "    top_10 = scores[-10:].mean()\n",
    "    max_score = scores[-1]\n",
    "    results['correct'].append(correct_score)\n",
    "    results['top_10'].append(top_10)\n",
    "    results['max'].append(max_score)\n",
    "\n",
    "results = {k: np.array(v) for k, v in results.items()}"
   ]
  },
  {
   "cell_type": "code",
   "execution_count": 36,
   "metadata": {},
   "outputs": [
    {
     "data": {
      "image/png": "[encoded data removed]",
      "text/plain": [
       "<Figure size 640x480 with 1 Axes>"
      ]
     },
     "metadata": {},
     "output_type": "display_data"
    }
   ],
   "source": [
    "import matplotlib.pyplot as plt\n",
    "\n",
    "plt.bar(['Correct', 'Top 10', 'Max'], [np.nanmean(results['correct']), results['top_10'].mean(), results['max'].mean()])\n",
    "# errorbar\n",
    "plt.errorbar(['Correct', 'Top 10', 'Max'], [np.nanmean(results['correct']), results['top_10'].mean(), results['max'].mean()],\n",
    "             [np.nanstd(results['correct']), results['top_10'].std(), results['max'].std()], fmt='.', color='black', capsize=5)\n",
    "\n",
    "plt.title('Mean consine similarity scores')\n",
    "plt.show()"
   ]
  },
  {
   "cell_type": "markdown",
   "metadata": {},
   "source": [
    "The measure of consine similarity used in Weblinx between embeddings seems to work somewhat okay but stuggles to reliably identify the \"correct\" element. While this seems like there is room for improvement, this analysis has the weekness that it is unknown if other elements (which are not the labeled one) are indeed related to the query or not as this information is not contained in the dataset."
   ]
  },
  {
   "cell_type": "markdown",
   "metadata": {},
   "source": [
    "# Classification\n",
    "\n",
    "In preliminary tests we evaluated some models and also finetuned a model to only predict uids\n",
    "\n",
    "\n",
    "| Model                | Correct  | In candidates | Element (IoU)\n",
    "|----------------------|----------|---------------|--------------\n",
    "| sLLaMA 1.3           | **0.24** | 0.76          | 20.54\n",
    "| Finetuned sLLama 2.7 | 0.21     | **0.77**      | -\n",
    "| Web LLama 3          | -        | -             | **27.44**\n",
    "\n",
    "\n",
    "We concluded that naive fine-tuning on uids does not improve performance. Even the best reported element IoU of 27 is far away from 100, which would correspond to perfect element identification.\n",
    "Further, only 67% of the correct elements are in the candidates which might be an upper bound of how good the final accuracy can get."
   ]
  },
  {
   "cell_type": "markdown",
   "metadata": {},
   "source": [
    "# Information in ideal elements\n",
    "The aim of this section is to visually inspect candidates for what information they contain"
   ]
  },
  {
   "cell_type": "code",
   "execution_count": 50,
   "metadata": {},
   "outputs": [],
   "source": [
    "ideal_elements = []\n",
    "for i, cand_uids in enumerate(uid_candidates):\n",
    "    idx = -1\n",
    "    for j, cand_uid in enumerate(cand_uids):\n",
    "        if cand_uid == ideal_uids[i]:\n",
    "            idx = j\n",
    "            break\n",
    "    \n",
    "    if idx == -1:\n",
    "        ideal_elements.append(None)\n",
    "        continue\n",
    "\n",
    "    candidate_elements = valid_uid['candidates'][i].split('\\n')\n",
    "    ideal_element = candidate_elements[idx]\n",
    "    ideal_elements.append(ideal_element)"
   ]
  },
  {
   "cell_type": "code",
   "execution_count": 70,
   "metadata": {},
   "outputs": [
    {
     "name": "stdout",
     "output_type": "stream",
     "text": [
      "Query: [-00:28] Hello [-00:16] Please open google calendar. [-00:00] Set up a Google Calendar event for our team brainstorming session. ;\n",
      "Ideal element: (uid = 177cdce2-4b37-465d) [[tag]] input [[xpath]] /html/body/div[4.../div[1]/div/input [[bbox]] x=731 y=204.0 width=55 height=24 [[attributes]] tabindex='0' autocomplete='...37-465d' \n",
      "\n",
      "Query: [-00:11] Hi [00:08] Please open the Uber Eats website. ;\n",
      "Ideal element: (uid = d42d0a7a-e2ba-45ec) [[tag]] a [[xpath]] /html/body/...]/span/a [[bbox]] x=452.0 y=24 width=122.4 height=48 [[attributes]] data-webtasks-...&ps=1' [[children]] div div \n",
      "\n",
      "Query: [-00:20] Hi [-00:08] Open google bard website. [00:49] Credentials:\n",
      "\tId: webtasks.navigator@gmail.com \n",
      "\tPassword: KEG24qweUHij%^ ;\n",
      "Ideal element: (uid = 5433b47f-d044-4e66) [[tag]] input [[xpath]] /html/body/div[.../div[1]/input [[bbox]] x=501 y=288.5 width=364 height=52 [[attributes]] data-initial-value=''...-label='Enter your password' \n",
      "\n",
      "Query: [-00:14] Hello ;\n",
      "Ideal element: (uid = 8b9a76d2-c6d7-4012) [[tag]] input [[xpath]] /html/body/div[3...1]/div/div/input [[bbox]] x=213.5 y=473 width=382 height=24 [[attributes]] value='' autocomplete='email...' placeholder='Enter your email...' \n",
      "\n",
      "Query: [-00:30] Hello [-00:15] Can you please open Investopedia? [00:11] I want the Crypto news. ;\n",
      "Ideal element: (uid = b556a60e-9b8c-4ab3) [[tag]] article [[xpath]] /html/body/main/article [[text]]   [[bbox]] x=34.5 y=302 width=1280 height=6079.8 [[attributes]] data-tracking-container... article mntl-article' [[children]] div div \n",
      "\n"
     ]
    }
   ],
   "source": [
    "rand_idxs = np.random.choice(len(ideal_elements), 5)\n",
    "\n",
    "for i in rand_idxs:\n",
    "    print(f\"Query: {valid_uid['utterances'][i]}\")\n",
    "    print(f\"Ideal element: {ideal_elements[i]}\")\n",
    "    print(\"\")"
   ]
  },
  {
   "cell_type": "markdown",
   "metadata": {},
   "source": [
    "This shows that elements are *not informative* about what they do in many cases"
   ]
  },
  {
   "cell_type": "markdown",
   "metadata": {},
   "source": [
    "# Conclusion\n",
    "\n",
    "This notebook is a short investigation of how weblinx choses candidates. The main issues are\n",
    "- The ideal candidates do not obtain high scores (top 50 in >90%, top 10 in ~67%)\n",
    "- The candidates contain relatively little information about their functions, exemplified by low classification accuracy"
   ]
  }
 ],
 "metadata": {
  "kernelspec": {
   "display_name": "option-agent",
   "language": "python",
   "name": "python3"
  },
  "language_info": {
   "codemirror_mode": {
    "name": "ipython",
    "version": 3
   },
   "file_extension": ".py",
   "mimetype": "text/x-python",
   "name": "python",
   "nbconvert_exporter": "python",
   "pygments_lexer": "ipython3",
   "version": "3.1.undefined"
  }
 },
 "nbformat": 4,
 "nbformat_minor": 2
}
